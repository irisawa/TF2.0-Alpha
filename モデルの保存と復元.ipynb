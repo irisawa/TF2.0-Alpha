{
  "nbformat": 4,
  "nbformat_minor": 0,
  "metadata": {
    "colab": {
      "name": "モデルの保存と復元.ipynb",
      "version": "0.3.2",
      "provenance": [],
      "collapsed_sections": [],
      "include_colab_link": true
    },
    "kernelspec": {
      "name": "python3",
      "display_name": "Python 3"
    }
  },
  "cells": [
    {
      "cell_type": "markdown",
      "metadata": {
        "id": "view-in-github",
        "colab_type": "text"
      },
      "source": [
        "<a href=\"https://colab.research.google.com/github/irisawa/TF2.0-Alpha/blob/master/%E3%83%A2%E3%83%87%E3%83%AB%E3%81%AE%E4%BF%9D%E5%AD%98%E3%81%A8%E5%BE%A9%E5%85%83.ipynb\" target=\"_parent\"><img src=\"https://colab.research.google.com/assets/colab-badge.svg\" alt=\"Open In Colab\"/></a>"
      ]
    },
    {
      "metadata": {
        "id": "7USGBICZFzgw",
        "colab_type": "text"
      },
      "cell_type": "markdown",
      "source": [
        "# 前準備"
      ]
    },
    {
      "metadata": {
        "id": "ujQd-oYHEWiQ",
        "colab_type": "code",
        "colab": {}
      },
      "cell_type": "code",
      "source": [
        "!pip install -q h5py pyyaml "
      ],
      "execution_count": 0,
      "outputs": []
    },
    {
      "metadata": {
        "id": "DCVhGh73F_hV",
        "colab_type": "text"
      },
      "cell_type": "markdown",
      "source": [
        "##h5py\n",
        "HDF5 フォーマットファイルを取り扱うための Python ライブラリー。 HDF は Hierarchical Data Format で、NumPy で扱っているデータをバイナリーファイルに保存できる。\n",
        "\n",
        "## pyyaml\n",
        "PythonでYAMLを扱うためにはPyYAMLというパッケージ"
      ]
    },
    {
      "metadata": {
        "id": "nR_DKLxFF2NG",
        "colab_type": "code",
        "colab": {
          "base_uri": "https://localhost:8080/",
          "height": 102
        },
        "outputId": "799915ef-af03-47d2-b6db-4815ca72f15b"
      },
      "cell_type": "code",
      "source": [
        "from __future__ import absolute_import, division, print_function\n",
        "\n",
        "import os\n",
        "\n",
        "!pip install -q tensorflow==2.0.0-alpha0\n",
        "import tensorflow as tf\n",
        "from tensorflow import keras\n",
        "\n",
        "tf.__version__"
      ],
      "execution_count": 2,
      "outputs": [
        {
          "output_type": "stream",
          "text": [
            "\u001b[K    100% |████████████████████████████████| 79.9MB 292kB/s \n",
            "\u001b[K    100% |████████████████████████████████| 419kB 17.2MB/s \n",
            "\u001b[K    100% |████████████████████████████████| 3.0MB 9.4MB/s \n",
            "\u001b[K    100% |████████████████████████████████| 61kB 23.2MB/s \n",
            "\u001b[?25h"
          ],
          "name": "stdout"
        },
        {
          "output_type": "execute_result",
          "data": {
            "text/plain": [
              "'2.0.0-alpha0'"
            ]
          },
          "metadata": {
            "tags": []
          },
          "execution_count": 2
        }
      ]
    },
    {
      "metadata": {
        "id": "aWaBHAnFGsDz",
        "colab_type": "text"
      },
      "cell_type": "markdown",
      "source": [
        "MNISTデータセットを使用して、重みの節約を実証するためにモデルをトレーニングする。これらのデモの実行をスピードアップするために、最初の1000の例だけを使用する。\n",
        "\n",
        "画像データは (28, 28) の numpy 配列。ピクセル値が0から255なので255で割り、0〜１のデータとする。\n",
        "`reshape`のマイナス１は-1とした次元の長さは他の次元の指定値から推測されて自動的に決定される。サイズの大きい配列の形状を変換するときに便利。"
      ]
    },
    {
      "metadata": {
        "id": "P_bUUbk5G2rI",
        "colab_type": "code",
        "colab": {
          "base_uri": "https://localhost:8080/",
          "height": 51
        },
        "outputId": "4973e1a8-509b-490f-e3ef-5bf184a070e8"
      },
      "cell_type": "code",
      "source": [
        "(train_images, train_labels), (test_images, test_labels) = tf.keras.datasets.mnist.load_data()\n",
        "\n",
        "train_labels = train_labels[:1000]\n",
        "test_labels = test_labels[:1000]\n",
        "\n",
        "train_images = train_images[:1000].reshape(-1, 28 * 28) / 255.0\n",
        "test_images = test_images[:1000].reshape(-1, 28 * 28) / 255.0"
      ],
      "execution_count": 3,
      "outputs": [
        {
          "output_type": "stream",
          "text": [
            "Downloading data from https://storage.googleapis.com/tensorflow/tf-keras-datasets/mnist.npz\n",
            "11493376/11490434 [==============================] - 0s 0us/step\n"
          ],
          "name": "stdout"
        }
      ]
    },
    {
      "metadata": {
        "id": "URqL-7QDZofs",
        "colab_type": "code",
        "colab": {
          "base_uri": "https://localhost:8080/",
          "height": 51
        },
        "outputId": "59e0ef3d-78de-4c7d-de62-fbb39add01c6"
      },
      "cell_type": "code",
      "source": [
        "print(train_labels.shape)\n",
        "print(train_images.shape)"
      ],
      "execution_count": 4,
      "outputs": [
        {
          "output_type": "stream",
          "text": [
            "(1000,)\n",
            "(1000, 784)\n"
          ],
          "name": "stdout"
        }
      ]
    },
    {
      "metadata": {
        "id": "UY91HDWoZqYS",
        "colab_type": "code",
        "colab": {
          "base_uri": "https://localhost:8080/",
          "height": 2686
        },
        "outputId": "71ce1507-a660-4256-9972-406ff1e0b881"
      },
      "cell_type": "code",
      "source": [
        "train_images[1]"
      ],
      "execution_count": 5,
      "outputs": [
        {
          "output_type": "execute_result",
          "data": {
            "text/plain": [
              "array([0.        , 0.        , 0.        , 0.        , 0.        ,\n",
              "       0.        , 0.        , 0.        , 0.        , 0.        ,\n",
              "       0.        , 0.        , 0.        , 0.        , 0.        ,\n",
              "       0.        , 0.        , 0.        , 0.        , 0.        ,\n",
              "       0.        , 0.        , 0.        , 0.        , 0.        ,\n",
              "       0.        , 0.        , 0.        , 0.        , 0.        ,\n",
              "       0.        , 0.        , 0.        , 0.        , 0.        ,\n",
              "       0.        , 0.        , 0.        , 0.        , 0.        ,\n",
              "       0.        , 0.        , 0.        , 0.        , 0.        ,\n",
              "       0.        , 0.        , 0.        , 0.        , 0.        ,\n",
              "       0.        , 0.        , 0.        , 0.        , 0.        ,\n",
              "       0.        , 0.        , 0.        , 0.        , 0.        ,\n",
              "       0.        , 0.        , 0.        , 0.        , 0.        ,\n",
              "       0.        , 0.        , 0.        , 0.        , 0.        ,\n",
              "       0.        , 0.        , 0.        , 0.        , 0.        ,\n",
              "       0.        , 0.        , 0.        , 0.        , 0.        ,\n",
              "       0.        , 0.        , 0.        , 0.        , 0.        ,\n",
              "       0.        , 0.        , 0.        , 0.        , 0.        ,\n",
              "       0.        , 0.        , 0.        , 0.        , 0.        ,\n",
              "       0.        , 0.        , 0.        , 0.        , 0.        ,\n",
              "       0.        , 0.        , 0.        , 0.        , 0.        ,\n",
              "       0.        , 0.        , 0.        , 0.        , 0.        ,\n",
              "       0.        , 0.        , 0.        , 0.        , 0.        ,\n",
              "       0.        , 0.        , 0.        , 0.        , 0.        ,\n",
              "       0.        , 0.        , 0.        , 0.        , 0.        ,\n",
              "       0.        , 0.        , 0.2       , 0.62352941, 0.99215686,\n",
              "       0.62352941, 0.19607843, 0.        , 0.        , 0.        ,\n",
              "       0.        , 0.        , 0.        , 0.        , 0.        ,\n",
              "       0.        , 0.        , 0.        , 0.        , 0.        ,\n",
              "       0.        , 0.        , 0.        , 0.        , 0.        ,\n",
              "       0.        , 0.        , 0.        , 0.        , 0.18823529,\n",
              "       0.93333333, 0.98823529, 0.98823529, 0.98823529, 0.92941176,\n",
              "       0.        , 0.        , 0.        , 0.        , 0.        ,\n",
              "       0.        , 0.        , 0.        , 0.        , 0.        ,\n",
              "       0.        , 0.        , 0.        , 0.        , 0.        ,\n",
              "       0.        , 0.        , 0.        , 0.        , 0.        ,\n",
              "       0.        , 0.21176471, 0.89019608, 0.99215686, 0.98823529,\n",
              "       0.9372549 , 0.91372549, 0.98823529, 0.22352941, 0.02352941,\n",
              "       0.        , 0.        , 0.        , 0.        , 0.        ,\n",
              "       0.        , 0.        , 0.        , 0.        , 0.        ,\n",
              "       0.        , 0.        , 0.        , 0.        , 0.        ,\n",
              "       0.        , 0.        , 0.03921569, 0.23529412, 0.87843137,\n",
              "       0.98823529, 0.99215686, 0.98823529, 0.79215686, 0.32941176,\n",
              "       0.98823529, 0.99215686, 0.47843137, 0.        , 0.        ,\n",
              "       0.        , 0.        , 0.        , 0.        , 0.        ,\n",
              "       0.        , 0.        , 0.        , 0.        , 0.        ,\n",
              "       0.        , 0.        , 0.        , 0.        , 0.        ,\n",
              "       0.63921569, 0.98823529, 0.98823529, 0.98823529, 0.99215686,\n",
              "       0.98823529, 0.98823529, 0.37647059, 0.74117647, 0.99215686,\n",
              "       0.65490196, 0.        , 0.        , 0.        , 0.        ,\n",
              "       0.        , 0.        , 0.        , 0.        , 0.        ,\n",
              "       0.        , 0.        , 0.        , 0.        , 0.        ,\n",
              "       0.        , 0.        , 0.2       , 0.93333333, 0.99215686,\n",
              "       0.99215686, 0.74509804, 0.44705882, 0.99215686, 0.89411765,\n",
              "       0.18431373, 0.30980392, 1.        , 0.65882353, 0.        ,\n",
              "       0.        , 0.        , 0.        , 0.        , 0.        ,\n",
              "       0.        , 0.        , 0.        , 0.        , 0.        ,\n",
              "       0.        , 0.        , 0.        , 0.        , 0.18823529,\n",
              "       0.93333333, 0.98823529, 0.98823529, 0.70196078, 0.04705882,\n",
              "       0.29411765, 0.4745098 , 0.08235294, 0.        , 0.        ,\n",
              "       0.99215686, 0.95294118, 0.19607843, 0.        , 0.        ,\n",
              "       0.        , 0.        , 0.        , 0.        , 0.        ,\n",
              "       0.        , 0.        , 0.        , 0.        , 0.        ,\n",
              "       0.        , 0.14901961, 0.64705882, 0.99215686, 0.91372549,\n",
              "       0.81568627, 0.32941176, 0.        , 0.        , 0.        ,\n",
              "       0.        , 0.        , 0.        , 0.99215686, 0.98823529,\n",
              "       0.64705882, 0.        , 0.        , 0.        , 0.        ,\n",
              "       0.        , 0.        , 0.        , 0.        , 0.        ,\n",
              "       0.        , 0.        , 0.        , 0.02745098, 0.69803922,\n",
              "       0.98823529, 0.94117647, 0.27843137, 0.0745098 , 0.10980392,\n",
              "       0.        , 0.        , 0.        , 0.        , 0.        ,\n",
              "       0.        , 0.99215686, 0.98823529, 0.76470588, 0.        ,\n",
              "       0.        , 0.        , 0.        , 0.        , 0.        ,\n",
              "       0.        , 0.        , 0.        , 0.        , 0.        ,\n",
              "       0.        , 0.22352941, 0.98823529, 0.98823529, 0.24705882,\n",
              "       0.        , 0.        , 0.        , 0.        , 0.        ,\n",
              "       0.        , 0.        , 0.        , 0.        , 0.99215686,\n",
              "       0.98823529, 0.76470588, 0.        , 0.        , 0.        ,\n",
              "       0.        , 0.        , 0.        , 0.        , 0.        ,\n",
              "       0.        , 0.        , 0.        , 0.        , 0.77647059,\n",
              "       0.99215686, 0.74509804, 0.        , 0.        , 0.        ,\n",
              "       0.        , 0.        , 0.        , 0.        , 0.        ,\n",
              "       0.        , 0.        , 1.        , 0.99215686, 0.76862745,\n",
              "       0.        , 0.        , 0.        , 0.        , 0.        ,\n",
              "       0.        , 0.        , 0.        , 0.        , 0.        ,\n",
              "       0.        , 0.29803922, 0.96470588, 0.98823529, 0.43921569,\n",
              "       0.        , 0.        , 0.        , 0.        , 0.        ,\n",
              "       0.        , 0.        , 0.        , 0.        , 0.        ,\n",
              "       0.99215686, 0.98823529, 0.58039216, 0.        , 0.        ,\n",
              "       0.        , 0.        , 0.        , 0.        , 0.        ,\n",
              "       0.        , 0.        , 0.        , 0.        , 0.33333333,\n",
              "       0.98823529, 0.90196078, 0.09803922, 0.        , 0.        ,\n",
              "       0.        , 0.        , 0.        , 0.        , 0.        ,\n",
              "       0.        , 0.02745098, 0.52941176, 0.99215686, 0.72941176,\n",
              "       0.04705882, 0.        , 0.        , 0.        , 0.        ,\n",
              "       0.        , 0.        , 0.        , 0.        , 0.        ,\n",
              "       0.        , 0.        , 0.33333333, 0.98823529, 0.8745098 ,\n",
              "       0.        , 0.        , 0.        , 0.        , 0.        ,\n",
              "       0.        , 0.        , 0.        , 0.02745098, 0.51372549,\n",
              "       0.98823529, 0.88235294, 0.27843137, 0.        , 0.        ,\n",
              "       0.        , 0.        , 0.        , 0.        , 0.        ,\n",
              "       0.        , 0.        , 0.        , 0.        , 0.        ,\n",
              "       0.33333333, 0.98823529, 0.56862745, 0.        , 0.        ,\n",
              "       0.        , 0.        , 0.        , 0.        , 0.        ,\n",
              "       0.18823529, 0.64705882, 0.98823529, 0.67843137, 0.        ,\n",
              "       0.        , 0.        , 0.        , 0.        , 0.        ,\n",
              "       0.        , 0.        , 0.        , 0.        , 0.        ,\n",
              "       0.        , 0.        , 0.        , 0.3372549 , 0.99215686,\n",
              "       0.88235294, 0.        , 0.        , 0.        , 0.        ,\n",
              "       0.        , 0.        , 0.44705882, 0.93333333, 0.99215686,\n",
              "       0.63529412, 0.        , 0.        , 0.        , 0.        ,\n",
              "       0.        , 0.        , 0.        , 0.        , 0.        ,\n",
              "       0.        , 0.        , 0.        , 0.        , 0.        ,\n",
              "       0.        , 0.33333333, 0.98823529, 0.97647059, 0.57254902,\n",
              "       0.18823529, 0.11372549, 0.33333333, 0.69803922, 0.88235294,\n",
              "       0.99215686, 0.8745098 , 0.65490196, 0.21960784, 0.        ,\n",
              "       0.        , 0.        , 0.        , 0.        , 0.        ,\n",
              "       0.        , 0.        , 0.        , 0.        , 0.        ,\n",
              "       0.        , 0.        , 0.        , 0.        , 0.33333333,\n",
              "       0.98823529, 0.98823529, 0.98823529, 0.89803922, 0.84313725,\n",
              "       0.98823529, 0.98823529, 0.98823529, 0.76862745, 0.50980392,\n",
              "       0.        , 0.        , 0.        , 0.        , 0.        ,\n",
              "       0.        , 0.        , 0.        , 0.        , 0.        ,\n",
              "       0.        , 0.        , 0.        , 0.        , 0.        ,\n",
              "       0.        , 0.        , 0.10980392, 0.78039216, 0.98823529,\n",
              "       0.98823529, 0.99215686, 0.98823529, 0.98823529, 0.91372549,\n",
              "       0.56862745, 0.        , 0.        , 0.        , 0.        ,\n",
              "       0.        , 0.        , 0.        , 0.        , 0.        ,\n",
              "       0.        , 0.        , 0.        , 0.        , 0.        ,\n",
              "       0.        , 0.        , 0.        , 0.        , 0.        ,\n",
              "       0.        , 0.09803922, 0.50196078, 0.98823529, 0.99215686,\n",
              "       0.98823529, 0.55294118, 0.14509804, 0.        , 0.        ,\n",
              "       0.        , 0.        , 0.        , 0.        , 0.        ,\n",
              "       0.        , 0.        , 0.        , 0.        , 0.        ,\n",
              "       0.        , 0.        , 0.        , 0.        , 0.        ,\n",
              "       0.        , 0.        , 0.        , 0.        , 0.        ,\n",
              "       0.        , 0.        , 0.        , 0.        , 0.        ,\n",
              "       0.        , 0.        , 0.        , 0.        , 0.        ,\n",
              "       0.        , 0.        , 0.        , 0.        , 0.        ,\n",
              "       0.        , 0.        , 0.        , 0.        , 0.        ,\n",
              "       0.        , 0.        , 0.        , 0.        , 0.        ,\n",
              "       0.        , 0.        , 0.        , 0.        , 0.        ,\n",
              "       0.        , 0.        , 0.        , 0.        , 0.        ,\n",
              "       0.        , 0.        , 0.        , 0.        , 0.        ,\n",
              "       0.        , 0.        , 0.        , 0.        , 0.        ,\n",
              "       0.        , 0.        , 0.        , 0.        , 0.        ,\n",
              "       0.        , 0.        , 0.        , 0.        , 0.        ,\n",
              "       0.        , 0.        , 0.        , 0.        , 0.        ,\n",
              "       0.        , 0.        , 0.        , 0.        , 0.        ,\n",
              "       0.        , 0.        , 0.        , 0.        , 0.        ,\n",
              "       0.        , 0.        , 0.        , 0.        , 0.        ,\n",
              "       0.        , 0.        , 0.        , 0.        , 0.        ,\n",
              "       0.        , 0.        , 0.        , 0.        , 0.        ,\n",
              "       0.        , 0.        , 0.        , 0.        , 0.        ,\n",
              "       0.        , 0.        , 0.        , 0.        , 0.        ,\n",
              "       0.        , 0.        , 0.        , 0.        , 0.        ,\n",
              "       0.        , 0.        , 0.        , 0.        ])"
            ]
          },
          "metadata": {
            "tags": []
          },
          "execution_count": 5
        }
      ]
    },
    {
      "metadata": {
        "id": "LtzlyoKrcBhc",
        "colab_type": "text"
      },
      "cell_type": "markdown",
      "source": [
        "# モデルの定義"
      ]
    },
    {
      "metadata": {
        "id": "XFPMFXN6bdX_",
        "colab_type": "code",
        "colab": {
          "base_uri": "https://localhost:8080/",
          "height": 255
        },
        "outputId": "8728a9c5-c2e0-4b98-a400-8f38ec15010f"
      },
      "cell_type": "code",
      "source": [
        "# Returns a short sequential model\n",
        "def create_model():\n",
        "  model = tf.keras.models.Sequential([\n",
        "    keras.layers.Dense(512, activation='relu', input_shape=(784,)),\n",
        "    keras.layers.Dropout(0.2),\n",
        "    keras.layers.Dense(10, activation='softmax')\n",
        "  ])\n",
        "  \n",
        "  model.compile(optimizer='adam', \n",
        "                loss='sparse_categorical_crossentropy',\n",
        "                metrics=['accuracy'])\n",
        "  \n",
        "  return model\n",
        "\n",
        "\n",
        "# Create a basic model instance\n",
        "model = create_model()\n",
        "model.summary()"
      ],
      "execution_count": 6,
      "outputs": [
        {
          "output_type": "stream",
          "text": [
            "Model: \"sequential\"\n",
            "_________________________________________________________________\n",
            "Layer (type)                 Output Shape              Param #   \n",
            "=================================================================\n",
            "dense (Dense)                (None, 512)               401920    \n",
            "_________________________________________________________________\n",
            "dropout (Dropout)            (None, 512)               0         \n",
            "_________________________________________________________________\n",
            "dense_1 (Dense)              (None, 10)                5130      \n",
            "=================================================================\n",
            "Total params: 407,050\n",
            "Trainable params: 407,050\n",
            "Non-trainable params: 0\n",
            "_________________________________________________________________\n"
          ],
          "name": "stdout"
        }
      ]
    },
    {
      "metadata": {
        "id": "vSOkVbJ-dMfZ",
        "colab_type": "text"
      },
      "cell_type": "markdown",
      "source": [
        "# チェックポイントの保存\n",
        "\n",
        "トレーニング中やトレーニング終了時に自動的にチェックポイントを保存することができる。こうすることで、トレーニングしたモデルを再トレーニングしなくても使用できるようになる。またはトレーニングプロセスが中断された場合は、残った場所でトレーニングをピックアップすることもできる。\n",
        "\n",
        "`tf.keras.callbacks.ModelCheckpoint`は、このタスクを実行するコールバック。\n",
        "\n",
        "引数は以下。\n",
        "- filepath\t保存ファイル名\n",
        "- monitor\t監視値指定．例えば，monitor='val_loss'\n",
        "- verbose\t保存時に標準出力にコメントを出すか指定．{0, 1}\n",
        "- save_best_only\t精度がよくなった時だけ保存するかどうか指定．Falseの場合は毎epoch保存．\n",
        "- mode 上限，下限どちらの側に収束した場合に収束判定を出すかの規定．{auto, min, max}\t"
      ]
    },
    {
      "metadata": {
        "id": "ltMExoaxcDF7",
        "colab_type": "code",
        "colab": {
          "base_uri": "https://localhost:8080/",
          "height": 731
        },
        "outputId": "359689be-f0a6-43f7-c51a-5fda0ffc683d"
      },
      "cell_type": "code",
      "source": [
        "checkpoint_path = \"training_1/cp.ckpt\"\n",
        "checkpoint_dir = os.path.dirname(checkpoint_path)\n",
        "\n",
        "# Create checkpoint callback\n",
        "cp_callback = tf.keras.callbacks.ModelCheckpoint(checkpoint_path, \n",
        "                                                 save_weights_only=True,\n",
        "                                                 verbose=1)\n",
        "\n",
        "model = create_model()\n",
        "\n",
        "model.fit(train_images, train_labels,  epochs = 10, \n",
        "          validation_data = (test_images,test_labels),\n",
        "          callbacks = [cp_callback])  # pass callback to training\n",
        "\n",
        "# This may generate warnings related to saving the state of the optimizer.\n",
        "# These warnings (and similar warnings throughout this notebook)\n",
        "# are in place to discourage outdated usage, and can be ignored."
      ],
      "execution_count": 7,
      "outputs": [
        {
          "output_type": "stream",
          "text": [
            "Train on 1000 samples, validate on 1000 samples\n",
            "Epoch 1/10\n",
            " 864/1000 [========================>.....] - ETA: 0s - loss: 1.2028 - accuracy: 0.6690\n",
            "Epoch 00001: saving model to training_1/cp.ckpt\n",
            "1000/1000 [==============================] - 1s 524us/sample - loss: 1.1139 - accuracy: 0.6940 - val_loss: 0.6991 - val_accuracy: 0.7840\n",
            "Epoch 2/10\n",
            " 864/1000 [========================>.....] - ETA: 0s - loss: 0.4109 - accuracy: 0.8819\n",
            "Epoch 00002: saving model to training_1/cp.ckpt\n",
            "1000/1000 [==============================] - 0s 295us/sample - loss: 0.4040 - accuracy: 0.8880 - val_loss: 0.5144 - val_accuracy: 0.8470\n",
            "Epoch 3/10\n",
            " 960/1000 [===========================>..] - ETA: 0s - loss: 0.2688 - accuracy: 0.9344\n",
            "Epoch 00003: saving model to training_1/cp.ckpt\n",
            "1000/1000 [==============================] - 0s 276us/sample - loss: 0.2775 - accuracy: 0.9320 - val_loss: 0.4686 - val_accuracy: 0.8540\n",
            "Epoch 4/10\n",
            " 896/1000 [=========================>....] - ETA: 0s - loss: 0.1970 - accuracy: 0.9531\n",
            "Epoch 00004: saving model to training_1/cp.ckpt\n",
            "1000/1000 [==============================] - 0s 277us/sample - loss: 0.1963 - accuracy: 0.9540 - val_loss: 0.4261 - val_accuracy: 0.8670\n",
            "Epoch 5/10\n",
            " 992/1000 [============================>.] - ETA: 0s - loss: 0.1555 - accuracy: 0.9708\n",
            "Epoch 00005: saving model to training_1/cp.ckpt\n",
            "1000/1000 [==============================] - 0s 275us/sample - loss: 0.1557 - accuracy: 0.9710 - val_loss: 0.4273 - val_accuracy: 0.8580\n",
            "Epoch 6/10\n",
            " 896/1000 [=========================>....] - ETA: 0s - loss: 0.1140 - accuracy: 0.9732\n",
            "Epoch 00006: saving model to training_1/cp.ckpt\n",
            "1000/1000 [==============================] - 0s 282us/sample - loss: 0.1111 - accuracy: 0.9750 - val_loss: 0.4285 - val_accuracy: 0.8550\n",
            "Epoch 7/10\n",
            " 896/1000 [=========================>....] - ETA: 0s - loss: 0.0768 - accuracy: 0.9900\n",
            "Epoch 00007: saving model to training_1/cp.ckpt\n",
            "1000/1000 [==============================] - 0s 287us/sample - loss: 0.0780 - accuracy: 0.9890 - val_loss: 0.4227 - val_accuracy: 0.8570\n",
            "Epoch 8/10\n",
            " 928/1000 [==========================>...] - ETA: 0s - loss: 0.0654 - accuracy: 0.9881\n",
            "Epoch 00008: saving model to training_1/cp.ckpt\n",
            "1000/1000 [==============================] - 0s 268us/sample - loss: 0.0642 - accuracy: 0.9890 - val_loss: 0.4185 - val_accuracy: 0.8650\n",
            "Epoch 9/10\n",
            " 928/1000 [==========================>...] - ETA: 0s - loss: 0.0496 - accuracy: 0.9968\n",
            "Epoch 00009: saving model to training_1/cp.ckpt\n",
            "1000/1000 [==============================] - 0s 272us/sample - loss: 0.0483 - accuracy: 0.9970 - val_loss: 0.4000 - val_accuracy: 0.8720\n",
            "Epoch 10/10\n",
            " 704/1000 [====================>.........] - ETA: 0s - loss: 0.0376 - accuracy: 1.0000\n",
            "Epoch 00010: saving model to training_1/cp.ckpt\n",
            "1000/1000 [==============================] - 0s 243us/sample - loss: 0.0365 - accuracy: 1.0000 - val_loss: 0.4025 - val_accuracy: 0.8770\n"
          ],
          "name": "stdout"
        },
        {
          "output_type": "execute_result",
          "data": {
            "text/plain": [
              "<tensorflow.python.keras.callbacks.History at 0x7f18b99205c0>"
            ]
          },
          "metadata": {
            "tags": []
          },
          "execution_count": 7
        }
      ]
    },
    {
      "metadata": {
        "id": "R-_REM1dTfQs",
        "colab_type": "text"
      },
      "cell_type": "markdown",
      "source": [
        "\n",
        "各エポックの終わりにチェックポイントファイルが作成される。"
      ]
    },
    {
      "metadata": {
        "id": "33fVzICaeAEy",
        "colab_type": "code",
        "colab": {
          "base_uri": "https://localhost:8080/",
          "height": 34
        },
        "outputId": "5a8cbc35-df26-4b9f-a290-b3482c5b6994"
      },
      "cell_type": "code",
      "source": [
        "!ls {checkpoint_dir}"
      ],
      "execution_count": 8,
      "outputs": [
        {
          "output_type": "stream",
          "text": [
            "checkpoint  cp.ckpt.data-00000-of-00001  cp.ckpt.index\n"
          ],
          "name": "stdout"
        }
      ]
    },
    {
      "metadata": {
        "id": "ISiMWDCjUCP6",
        "colab_type": "text"
      },
      "cell_type": "markdown",
      "source": [
        "### 未学習の新しいモデルを作成する。\n",
        "\n",
        "モデルを復元するときは、元のモデルと同じアーキテクチャを持つモデルが必要となる。同じモデルアーキテクチャなので、別のインスタンスでも、重みを共有できる。\n"
      ]
    },
    {
      "metadata": {
        "id": "EWpdfhcITUbR",
        "colab_type": "code",
        "colab": {
          "base_uri": "https://localhost:8080/",
          "height": 51
        },
        "outputId": "50ae25ee-f3dd-452c-d40a-a432ca3c6196"
      },
      "cell_type": "code",
      "source": [
        "model = create_model()\n",
        "\n",
        "loss, acc = model.evaluate(test_images, test_labels)\n",
        "print(\"Untrained model, accuracy: {:5.2f}%\".format(100*acc))"
      ],
      "execution_count": 9,
      "outputs": [
        {
          "output_type": "stream",
          "text": [
            "1000/1000 [==============================] - 0s 134us/sample - loss: 2.3614 - accuracy: 0.0800\n",
            "Untrained model, accuracy:  8.00%\n"
          ],
          "name": "stdout"
        }
      ]
    },
    {
      "metadata": {
        "id": "G2w6DlsrUvR2",
        "colab_type": "text"
      },
      "cell_type": "markdown",
      "source": [
        "結果の通り８％と精度が悪いが\n",
        "チェックポイントから重みをロードし、再評価すると重みを再利用でき良い結果が得られる。\n"
      ]
    },
    {
      "metadata": {
        "id": "uE7xF85qUZB6",
        "colab_type": "code",
        "colab": {
          "base_uri": "https://localhost:8080/",
          "height": 51
        },
        "outputId": "ea78304c-9f77-4d47-d99f-1132765dd80d"
      },
      "cell_type": "code",
      "source": [
        "model.load_weights(checkpoint_path)\n",
        "loss,acc = model.evaluate(test_images, test_labels)\n",
        "print(\"Restored model, accuracy: {:5.2f}%\".format(100*acc))"
      ],
      "execution_count": 10,
      "outputs": [
        {
          "output_type": "stream",
          "text": [
            "1000/1000 [==============================] - 0s 89us/sample - loss: 0.4025 - accuracy: 0.8770\n",
            "Restored model, accuracy: 87.70%\n"
          ],
          "name": "stdout"
        }
      ]
    },
    {
      "metadata": {
        "id": "_QXrsym3Zpab",
        "colab_type": "text"
      },
      "cell_type": "markdown",
      "source": [
        "# コールバック\n",
        "\n",
        "コールバックには、結果として得られるチェックポイントに一意の名前を付け、チェックポイントの頻度を調整するためのいくつかのオプションがある。\n",
        "\n",
        "新しいモデルを学習させ、5エポックごとに一意の名前のチェックポイントを保存してみる。"
      ]
    },
    {
      "metadata": {
        "id": "1vQk2-8JZP_5",
        "colab_type": "code",
        "colab": {
          "base_uri": "https://localhost:8080/",
          "height": 374
        },
        "outputId": "6bdf9209-bee3-4c3a-947e-8b4987bbeca1"
      },
      "cell_type": "code",
      "source": [
        "# include the epoch in the file name. (uses `str.format`)\n",
        "checkpoint_path = \"training_2/cp-{epoch:04d}.ckpt\"\n",
        "checkpoint_dir = os.path.dirname(checkpoint_path)\n",
        "\n",
        "cp_callback = tf.keras.callbacks.ModelCheckpoint(\n",
        "    checkpoint_path, verbose=1, save_weights_only=True,\n",
        "    # Save weights, every 5-epochs.\n",
        "    period=5)\n",
        "\n",
        "model = create_model()\n",
        "model.save_weights(checkpoint_path.format(epoch=0))\n",
        "model.fit(train_images, train_labels,\n",
        "          epochs = 50, callbacks = [cp_callback],\n",
        "          validation_data = (test_images,test_labels),\n",
        "          verbose=0)"
      ],
      "execution_count": 11,
      "outputs": [
        {
          "output_type": "stream",
          "text": [
            "\n",
            "Epoch 00005: saving model to training_2/cp-0005.ckpt\n",
            "\n",
            "Epoch 00010: saving model to training_2/cp-0010.ckpt\n",
            "\n",
            "Epoch 00015: saving model to training_2/cp-0015.ckpt\n",
            "\n",
            "Epoch 00020: saving model to training_2/cp-0020.ckpt\n",
            "\n",
            "Epoch 00025: saving model to training_2/cp-0025.ckpt\n",
            "\n",
            "Epoch 00030: saving model to training_2/cp-0030.ckpt\n",
            "\n",
            "Epoch 00035: saving model to training_2/cp-0035.ckpt\n",
            "\n",
            "Epoch 00040: saving model to training_2/cp-0040.ckpt\n",
            "\n",
            "Epoch 00045: saving model to training_2/cp-0045.ckpt\n",
            "\n",
            "Epoch 00050: saving model to training_2/cp-0050.ckpt\n"
          ],
          "name": "stdout"
        },
        {
          "output_type": "execute_result",
          "data": {
            "text/plain": [
              "<tensorflow.python.keras.callbacks.History at 0x7f18ab66a2b0>"
            ]
          },
          "metadata": {
            "tags": []
          },
          "execution_count": 11
        }
      ]
    },
    {
      "metadata": {
        "id": "acrHypapZ5oi",
        "colab_type": "code",
        "colab": {
          "base_uri": "https://localhost:8080/",
          "height": 221
        },
        "outputId": "06e02df1-f8ec-4e0c-b193-ff136c7f8b34"
      },
      "cell_type": "code",
      "source": [
        "!ls {checkpoint_dir}"
      ],
      "execution_count": 12,
      "outputs": [
        {
          "output_type": "stream",
          "text": [
            "checkpoint\t\t\t  cp-0025.ckpt.index\n",
            "cp-0000.ckpt.data-00000-of-00001  cp-0030.ckpt.data-00000-of-00001\n",
            "cp-0000.ckpt.index\t\t  cp-0030.ckpt.index\n",
            "cp-0005.ckpt.data-00000-of-00001  cp-0035.ckpt.data-00000-of-00001\n",
            "cp-0005.ckpt.index\t\t  cp-0035.ckpt.index\n",
            "cp-0010.ckpt.data-00000-of-00001  cp-0040.ckpt.data-00000-of-00001\n",
            "cp-0010.ckpt.index\t\t  cp-0040.ckpt.index\n",
            "cp-0015.ckpt.data-00000-of-00001  cp-0045.ckpt.data-00000-of-00001\n",
            "cp-0015.ckpt.index\t\t  cp-0045.ckpt.index\n",
            "cp-0020.ckpt.data-00000-of-00001  cp-0050.ckpt.data-00000-of-00001\n",
            "cp-0020.ckpt.index\t\t  cp-0050.ckpt.index\n",
            "cp-0025.ckpt.data-00000-of-00001\n"
          ],
          "name": "stdout"
        }
      ]
    },
    {
      "metadata": {
        "id": "BLMWIeFybuGr",
        "colab_type": "text"
      },
      "cell_type": "markdown",
      "source": [
        "`tf.train.latest_checkpoint`を利用すると、最新のチェックポイントファイルを探せる。"
      ]
    },
    {
      "metadata": {
        "id": "mz2Oo3eQbBvt",
        "colab_type": "code",
        "colab": {
          "base_uri": "https://localhost:8080/",
          "height": 34
        },
        "outputId": "618b47a1-a36c-4c17-c086-7c2be7141d21"
      },
      "cell_type": "code",
      "source": [
        "latest = tf.train.latest_checkpoint(checkpoint_dir)\n",
        "latest"
      ],
      "execution_count": 13,
      "outputs": [
        {
          "output_type": "execute_result",
          "data": {
            "text/plain": [
              "'training_2/cp-0050.ckpt'"
            ]
          },
          "metadata": {
            "tags": []
          },
          "execution_count": 13
        }
      ]
    },
    {
      "metadata": {
        "id": "_X8Mfko-cLZL",
        "colab_type": "text"
      },
      "cell_type": "markdown",
      "source": [
        ">注：デフォルトのtensorflowは、最新の5つのチェックポイントを保存する。"
      ]
    },
    {
      "metadata": {
        "id": "Y5HvhB36dBgI",
        "colab_type": "text"
      },
      "cell_type": "markdown",
      "source": [
        "\n",
        "モデルをリセットして最新のチェックポイントを読み込む。"
      ]
    },
    {
      "metadata": {
        "id": "oMvFN2-EbeOJ",
        "colab_type": "code",
        "colab": {
          "base_uri": "https://localhost:8080/",
          "height": 51
        },
        "outputId": "21596015-0d4d-4271-a0be-ff79503f06ad"
      },
      "cell_type": "code",
      "source": [
        "model = create_model()\n",
        "model.load_weights(latest) #　最新の重みを読み込む\n",
        "loss, acc = model.evaluate(test_images, test_labels)\n",
        "print(\"Restored model, accuracy: {:5.2f}%\".format(100*acc))\n"
      ],
      "execution_count": 15,
      "outputs": [
        {
          "output_type": "stream",
          "text": [
            "1000/1000 [==============================] - 0s 131us/sample - loss: 0.5025 - accuracy: 0.8720\n",
            "Restored model, accuracy: 87.20%\n"
          ],
          "name": "stdout"
        }
      ]
    },
    {
      "metadata": {
        "id": "xzZ22fjEgM5F",
        "colab_type": "text"
      },
      "cell_type": "markdown",
      "source": [
        "# ファイルについて\n",
        "上記のコードは、バイナリ形式の学習済み重みのみを含むチェックポイント形式のファイルのコレクションに重みを格納している。\n",
        "\n",
        "チェックポイントには以下が含まれる。\n",
        "- モデルの重みを1つ以上含む断片 \n",
        "- どの重みがどのシャードに格納されているかを示すインデックスファイル\n",
        "\n",
        "単一のマシンでモデルをトレーニングする場合は、接尾辞が1となる。\n",
        "\n",
        ".data-00000-of-00001"
      ]
    },
    {
      "metadata": {
        "id": "OCU2lF1EhaoT",
        "colab_type": "text"
      },
      "cell_type": "markdown",
      "source": [
        "# 手動による保存\n",
        "\n",
        "\n",
        "Model.save_weightsメソッドを使用し手動で保存する。"
      ]
    },
    {
      "metadata": {
        "id": "56JFNHUXdJFX",
        "colab_type": "code",
        "colab": {
          "base_uri": "https://localhost:8080/",
          "height": 51
        },
        "outputId": "1775a834-c892-4b5f-e194-ecf01d436648"
      },
      "cell_type": "code",
      "source": [
        "# Save the weights\n",
        "model.save_weights('./checkpoints/my_checkpoint')\n",
        "\n",
        "# Restore the weights\n",
        "model = create_model()\n",
        "model.load_weights('./checkpoints/my_checkpoint')\n",
        "\n",
        "loss,acc = model.evaluate(test_images, test_labels)\n",
        "print(\"Restored model, accuracy: {:5.2f}%\".format(100*acc))"
      ],
      "execution_count": 16,
      "outputs": [
        {
          "output_type": "stream",
          "text": [
            "1000/1000 [==============================] - 0s 126us/sample - loss: 0.5025 - accuracy: 0.8720\n",
            "Restored model, accuracy: 87.20%\n"
          ],
          "name": "stdout"
        }
      ]
    },
    {
      "metadata": {
        "id": "rgcIPw7Uisvd",
        "colab_type": "text"
      },
      "cell_type": "markdown",
      "source": [
        "# モデルの保存\n",
        "\n",
        "モデルとオプティマイザは、状態（重みと変数）とモデルの両方をファイルに保存することができる。これにより、モデルをエクスポートして、元のPythonコードにアクセスしなくても利用できる。\n",
        "\n",
        "# HDF5ファイル\n",
        "\n",
        "KerasはHDF5規格を使った保存フォーマットを提供する。\n",
        "保存されたモデルは単一のバイナリBLOB。\n"
      ]
    },
    {
      "metadata": {
        "id": "UlaXFyqciSU9",
        "colab_type": "code",
        "colab": {
          "base_uri": "https://localhost:8080/",
          "height": 187
        },
        "outputId": "897860db-9a87-4e8a-b46f-1aa40496d074"
      },
      "cell_type": "code",
      "source": [
        "model = create_model()\n",
        "\n",
        "model.fit(train_images, train_labels, epochs=5)\n",
        "\n",
        "# Save entire model to a HDF5 file\n",
        "model.save('my_model.h5')"
      ],
      "execution_count": 28,
      "outputs": [
        {
          "output_type": "stream",
          "text": [
            "Epoch 1/5\n",
            "1000/1000 [==============================] - 0s 271us/sample - loss: 1.1773 - accuracy: 0.6660\n",
            "Epoch 2/5\n",
            "1000/1000 [==============================] - 0s 174us/sample - loss: 0.4220 - accuracy: 0.8800\n",
            "Epoch 3/5\n",
            "1000/1000 [==============================] - 0s 176us/sample - loss: 0.2749 - accuracy: 0.9340\n",
            "Epoch 4/5\n",
            "1000/1000 [==============================] - 0s 186us/sample - loss: 0.2048 - accuracy: 0.9490\n",
            "Epoch 5/5\n",
            "1000/1000 [==============================] - 0s 188us/sample - loss: 0.1554 - accuracy: 0.9680\n"
          ],
          "name": "stdout"
        }
      ]
    },
    {
      "metadata": {
        "id": "bn6V-H62kmyX",
        "colab_type": "text"
      },
      "cell_type": "markdown",
      "source": [
        "\n",
        "重みとオプティマイザを含めた同じモデルを再作成する。"
      ]
    },
    {
      "metadata": {
        "id": "q71lrdB_kgz-",
        "colab_type": "code",
        "colab": {
          "base_uri": "https://localhost:8080/",
          "height": 255
        },
        "outputId": "17064b54-90d7-456a-9d0e-fa9557fe4895"
      },
      "cell_type": "code",
      "source": [
        "# Recreate the exact same model, including weights and optimizer.\n",
        "new_model = keras.models.load_model('my_model.h5')\n",
        "new_model.summary()"
      ],
      "execution_count": 29,
      "outputs": [
        {
          "output_type": "stream",
          "text": [
            "Model: \"sequential_7\"\n",
            "_________________________________________________________________\n",
            "Layer (type)                 Output Shape              Param #   \n",
            "=================================================================\n",
            "dense_14 (Dense)             (None, 512)               401920    \n",
            "_________________________________________________________________\n",
            "dropout_7 (Dropout)          (None, 512)               0         \n",
            "_________________________________________________________________\n",
            "dense_15 (Dense)             (None, 10)                5130      \n",
            "=================================================================\n",
            "Total params: 407,050\n",
            "Trainable params: 407,050\n",
            "Non-trainable params: 0\n",
            "_________________________________________________________________\n"
          ],
          "name": "stdout"
        }
      ]
    },
    {
      "metadata": {
        "id": "Sczug7b9k2lL",
        "colab_type": "code",
        "colab": {
          "base_uri": "https://localhost:8080/",
          "height": 51
        },
        "outputId": "a8a77ab3-780b-40cc-8c4f-01b0ac535129"
      },
      "cell_type": "code",
      "source": [
        "loss, acc = new_model.evaluate(test_images, test_labels)\n",
        "print(\"Restored model, accuracy: {:5.2f}%\".format(100*acc))"
      ],
      "execution_count": 30,
      "outputs": [
        {
          "output_type": "stream",
          "text": [
            "1000/1000 [==============================] - 0s 117us/sample - loss: 0.4154 - accuracy: 0.8650\n",
            "Restored model, accuracy: 86.50%\n"
          ],
          "name": "stdout"
        }
      ]
    },
    {
      "metadata": {
        "id": "bjNY8CJ8k5tb",
        "colab_type": "code",
        "colab": {}
      },
      "cell_type": "code",
      "source": [
        ""
      ],
      "execution_count": 0,
      "outputs": []
    }
  ]
}