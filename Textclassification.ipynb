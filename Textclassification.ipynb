{
  "nbformat": 4,
  "nbformat_minor": 0,
  "metadata": {
    "colab": {
      "name": "Textclassification.ipynb",
      "version": "0.3.2",
      "provenance": [],
      "collapsed_sections": [],
      "include_colab_link": true
    },
    "kernelspec": {
      "name": "python3",
      "display_name": "Python 3"
    }
  },
  "cells": [
    {
      "cell_type": "markdown",
      "metadata": {
        "id": "view-in-github",
        "colab_type": "text"
      },
      "source": [
        "<a href=\"https://colab.research.google.com/github/irisawa/TF2.0-Alpha/blob/master/Textclassification.ipynb\" target=\"_parent\"><img src=\"https://colab.research.google.com/assets/colab-badge.svg\" alt=\"Open In Colab\"/></a>"
      ]
    },
    {
      "metadata": {
        "id": "O94pdlIzDAMI",
        "colab_type": "code",
        "colab": {
          "base_uri": "https://localhost:8080/",
          "height": 360
        },
        "outputId": "8c7c6823-09a6-4b43-a3bb-b41262c7c254"
      },
      "cell_type": "code",
      "source": [
        "!pip install tensorflow==2.0.0-alpha0"
      ],
      "execution_count": 1,
      "outputs": [
        {
          "output_type": "stream",
          "text": [
            "Requirement already satisfied: tensorflow==2.0.0-alpha0 in /usr/local/lib/python3.6/dist-packages (2.0.0a0)\n",
            "Requirement already satisfied: protobuf>=3.6.1 in /usr/local/lib/python3.6/dist-packages (from tensorflow==2.0.0-alpha0) (3.6.1)\n",
            "Requirement already satisfied: grpcio>=1.8.6 in /usr/local/lib/python3.6/dist-packages (from tensorflow==2.0.0-alpha0) (1.15.0)\n",
            "Requirement already satisfied: gast>=0.2.0 in /usr/local/lib/python3.6/dist-packages (from tensorflow==2.0.0-alpha0) (0.2.2)\n",
            "Requirement already satisfied: absl-py>=0.7.0 in /usr/local/lib/python3.6/dist-packages (from tensorflow==2.0.0-alpha0) (0.7.0)\n",
            "Requirement already satisfied: google-pasta>=0.1.2 in /usr/local/lib/python3.6/dist-packages (from tensorflow==2.0.0-alpha0) (0.1.4)\n",
            "Requirement already satisfied: keras-applications>=1.0.6 in /usr/local/lib/python3.6/dist-packages (from tensorflow==2.0.0-alpha0) (1.0.7)\n",
            "Requirement already satisfied: keras-preprocessing>=1.0.5 in /usr/local/lib/python3.6/dist-packages (from tensorflow==2.0.0-alpha0) (1.0.9)\n",
            "Requirement already satisfied: tb-nightly<1.14.0a20190302,>=1.14.0a20190301 in /usr/local/lib/python3.6/dist-packages (from tensorflow==2.0.0-alpha0) (1.14.0a20190301)\n",
            "Requirement already satisfied: numpy<2.0,>=1.14.5 in /usr/local/lib/python3.6/dist-packages (from tensorflow==2.0.0-alpha0) (1.14.6)\n",
            "Requirement already satisfied: wheel>=0.26 in /usr/local/lib/python3.6/dist-packages (from tensorflow==2.0.0-alpha0) (0.33.1)\n",
            "Requirement already satisfied: six>=1.10.0 in /usr/local/lib/python3.6/dist-packages (from tensorflow==2.0.0-alpha0) (1.11.0)\n",
            "Requirement already satisfied: astor>=0.6.0 in /usr/local/lib/python3.6/dist-packages (from tensorflow==2.0.0-alpha0) (0.7.1)\n",
            "Requirement already satisfied: termcolor>=1.1.0 in /usr/local/lib/python3.6/dist-packages (from tensorflow==2.0.0-alpha0) (1.1.0)\n",
            "Requirement already satisfied: tf-estimator-nightly<1.14.0.dev2019030116,>=1.14.0.dev2019030115 in /usr/local/lib/python3.6/dist-packages (from tensorflow==2.0.0-alpha0) (1.14.0.dev2019030115)\n",
            "Requirement already satisfied: setuptools in /usr/local/lib/python3.6/dist-packages (from protobuf>=3.6.1->tensorflow==2.0.0-alpha0) (40.8.0)\n",
            "Requirement already satisfied: h5py in /usr/local/lib/python3.6/dist-packages (from keras-applications>=1.0.6->tensorflow==2.0.0-alpha0) (2.8.0)\n",
            "Requirement already satisfied: werkzeug>=0.11.15 in /usr/local/lib/python3.6/dist-packages (from tb-nightly<1.14.0a20190302,>=1.14.0a20190301->tensorflow==2.0.0-alpha0) (0.14.1)\n",
            "Requirement already satisfied: markdown>=2.6.8 in /usr/local/lib/python3.6/dist-packages (from tb-nightly<1.14.0a20190302,>=1.14.0a20190301->tensorflow==2.0.0-alpha0) (3.0.1)\n"
          ],
          "name": "stdout"
        }
      ]
    },
    {
      "metadata": {
        "id": "1YXxUvBIEERn",
        "colab_type": "code",
        "colab": {
          "base_uri": "https://localhost:8080/",
          "height": 34
        },
        "outputId": "20b8694f-61b3-4cb8-ae8e-4e44100390b1"
      },
      "cell_type": "code",
      "source": [
        "from __future__ import absolute_import, division, print_function\n",
        "\n",
        "!pip install -q tensorflow==2.0.0-alpha0\n",
        "import tensorflow as tf\n",
        "from tensorflow import keras\n",
        "\n",
        "import numpy as np\n",
        "\n",
        "print(tf.__version__)"
      ],
      "execution_count": 12,
      "outputs": [
        {
          "output_type": "stream",
          "text": [
            "2.0.0-alpha0\n"
          ],
          "name": "stdout"
        }
      ]
    },
    {
      "metadata": {
        "id": "jf_v1dGQEQm8",
        "colab_type": "text"
      },
      "cell_type": "markdown",
      "source": [
        "# IMDB datasetのロード"
      ]
    },
    {
      "metadata": {
        "id": "b38n5XCnEIHc",
        "colab_type": "code",
        "colab": {}
      },
      "cell_type": "code",
      "source": [
        "imdb = keras.datasets.imdb\n",
        "\n",
        "(train_data, train_labels), (test_data, test_labels) = imdb.load_data(num_words=10000)"
      ],
      "execution_count": 0,
      "outputs": []
    },
    {
      "metadata": {
        "id": "CFM4iU-WEOgU",
        "colab_type": "code",
        "colab": {
          "base_uri": "https://localhost:8080/",
          "height": 34
        },
        "outputId": "ed2c4e40-0fca-414e-8a62-b830254c836b"
      },
      "cell_type": "code",
      "source": [
        "print(\"Training entries: {}, labels: {}\".format(len(train_data), len(train_labels)))"
      ],
      "execution_count": 14,
      "outputs": [
        {
          "output_type": "stream",
          "text": [
            "Training entries: 25000, labels: 25000\n"
          ],
          "name": "stdout"
        }
      ]
    },
    {
      "metadata": {
        "id": "pkEkLS8YEjoh",
        "colab_type": "code",
        "colab": {
          "base_uri": "https://localhost:8080/",
          "height": 34
        },
        "outputId": "9e6e3455-53a8-4e03-8003-b54fe8f3500e"
      },
      "cell_type": "code",
      "source": [
        "print(train_data.shape)"
      ],
      "execution_count": 15,
      "outputs": [
        {
          "output_type": "stream",
          "text": [
            "(25000,)\n"
          ],
          "name": "stdout"
        }
      ]
    },
    {
      "metadata": {
        "id": "5Yac8fpxEbIh",
        "colab_type": "code",
        "colab": {
          "base_uri": "https://localhost:8080/",
          "height": 54
        },
        "outputId": "01745a94-9da0-4b68-d734-3336e67d5a5c"
      },
      "cell_type": "code",
      "source": [
        "print(train_data[0])"
      ],
      "execution_count": 16,
      "outputs": [
        {
          "output_type": "stream",
          "text": [
            "[1, 14, 22, 16, 43, 530, 973, 1622, 1385, 65, 458, 4468, 66, 3941, 4, 173, 36, 256, 5, 25, 100, 43, 838, 112, 50, 670, 2, 9, 35, 480, 284, 5, 150, 4, 172, 112, 167, 2, 336, 385, 39, 4, 172, 4536, 1111, 17, 546, 38, 13, 447, 4, 192, 50, 16, 6, 147, 2025, 19, 14, 22, 4, 1920, 4613, 469, 4, 22, 71, 87, 12, 16, 43, 530, 38, 76, 15, 13, 1247, 4, 22, 17, 515, 17, 12, 16, 626, 18, 2, 5, 62, 386, 12, 8, 316, 8, 106, 5, 4, 2223, 5244, 16, 480, 66, 3785, 33, 4, 130, 12, 16, 38, 619, 5, 25, 124, 51, 36, 135, 48, 25, 1415, 33, 6, 22, 12, 215, 28, 77, 52, 5, 14, 407, 16, 82, 2, 8, 4, 107, 117, 5952, 15, 256, 4, 2, 7, 3766, 5, 723, 36, 71, 43, 530, 476, 26, 400, 317, 46, 7, 4, 2, 1029, 13, 104, 88, 4, 381, 15, 297, 98, 32, 2071, 56, 26, 141, 6, 194, 7486, 18, 4, 226, 22, 21, 134, 476, 26, 480, 5, 144, 30, 5535, 18, 51, 36, 28, 224, 92, 25, 104, 4, 226, 65, 16, 38, 1334, 88, 12, 16, 283, 5, 16, 4472, 113, 103, 32, 15, 16, 5345, 19, 178, 32]\n"
          ],
          "name": "stdout"
        }
      ]
    },
    {
      "metadata": {
        "id": "tORVRul-Efws",
        "colab_type": "code",
        "colab": {
          "base_uri": "https://localhost:8080/",
          "height": 34
        },
        "outputId": "bd1c0c2c-6197-44da-8ff0-99c7d5aec57a"
      },
      "cell_type": "code",
      "source": [
        "len(train_data[0]), len(train_data[1]), len(train_data[2]),len(train_data[3])"
      ],
      "execution_count": 17,
      "outputs": [
        {
          "output_type": "execute_result",
          "data": {
            "text/plain": [
              "(218, 189, 141, 550)"
            ]
          },
          "metadata": {
            "tags": []
          },
          "execution_count": 17
        }
      ]
    },
    {
      "metadata": {
        "id": "17O_Gp1nV2KS",
        "colab_type": "text"
      },
      "cell_type": "markdown",
      "source": [
        "# 整数を単語に戻す"
      ]
    },
    {
      "metadata": {
        "id": "U7oGGXc4Etej",
        "colab_type": "code",
        "colab": {}
      },
      "cell_type": "code",
      "source": [
        "# A dictionary mapping words to an integer index\n",
        "word_index = imdb.get_word_index()\n",
        "\n",
        "# The first indices are reserved\n",
        "word_index = {k:(v+3) for k,v in word_index.items()} \n",
        "word_index[\"<PAD>\"] = 0\n",
        "word_index[\"<START>\"] = 1\n",
        "word_index[\"<UNK>\"] = 2  # unknown\n",
        "word_index[\"<UNUSED>\"] = 3\n",
        "\n",
        "reverse_word_index = dict([(value, key) for (key, value) in word_index.items()])\n",
        "\n",
        "def decode_review(text):\n",
        "    return ' '.join([reverse_word_index.get(i, '?') for i in text])\n"
      ],
      "execution_count": 0,
      "outputs": []
    },
    {
      "metadata": {
        "id": "dnCdxs3bV9CT",
        "colab_type": "code",
        "colab": {
          "base_uri": "https://localhost:8080/",
          "height": 54
        },
        "outputId": "ce20a364-5ab9-48db-dbc9-441ab168e62d"
      },
      "cell_type": "code",
      "source": [
        "decode_review(train_data[0])"
      ],
      "execution_count": 20,
      "outputs": [
        {
          "output_type": "execute_result",
          "data": {
            "text/plain": [
              "\"<START> this film was just brilliant casting location scenery story direction everyone's really suited the part they played and you could just imagine being there robert <UNK> is an amazing actor and now the same being director <UNK> father came from the same scottish island as myself so i loved the fact there was a real connection with this film the witty remarks throughout the film were great it was just brilliant so much that i bought the film as soon as it was released for <UNK> and would recommend it to everyone to watch and the fly fishing was amazing really cried at the end it was so sad and you know what they say if you cry at a film it must have been good and this definitely was also <UNK> to the two little boy's that played the <UNK> of norman and paul they were just brilliant children are often left out of the <UNK> list i think because the stars that play them all grown up are such a big profile for the whole film but these children are amazing and should be praised for what they have done don't you think the whole story was so lovely because it was true and was someone's life after all that was shared with us all\""
            ]
          },
          "metadata": {
            "tags": []
          },
          "execution_count": 20
        }
      ]
    },
    {
      "metadata": {
        "id": "qhDGK7gOWsIX",
        "colab_type": "text"
      },
      "cell_type": "markdown",
      "source": [
        "# 前処理\n",
        "\n",
        "データの長さが異なるため`pad_sequences`で調整する。\n",
        "\n",
        "- value: 浮動小数点数．パディングする値．\n",
        "- padding: 文字列，'pre'または'post'．各シーケンスの前後どちらを埋めるか．\n",
        "- maxlen: 整数，シーケンスの最大長．\n"
      ]
    },
    {
      "metadata": {
        "id": "OBrsD3UOWlhw",
        "colab_type": "code",
        "colab": {}
      },
      "cell_type": "code",
      "source": [
        "train_data = keras.preprocessing.sequence.pad_sequences(train_data,\n",
        "                                                        value=word_index[\"<PAD>\"],\n",
        "                                                        padding='post',\n",
        "                                                        maxlen=256)\n",
        "\n",
        "test_data = keras.preprocessing.sequence.pad_sequences(test_data,\n",
        "                                                       value=word_index[\"<PAD>\"],\n",
        "                                                       padding='post',\n",
        "                                                       maxlen=256)"
      ],
      "execution_count": 0,
      "outputs": []
    },
    {
      "metadata": {
        "id": "U9JkQs-QXFn0",
        "colab_type": "code",
        "colab": {
          "base_uri": "https://localhost:8080/",
          "height": 34
        },
        "outputId": "b69bd14d-e473-4fa6-98d5-a5e67562fa6e"
      },
      "cell_type": "code",
      "source": [
        "len(train_data[0]), len(train_data[1]), len(train_data[2]),len(train_data[3])"
      ],
      "execution_count": 23,
      "outputs": [
        {
          "output_type": "execute_result",
          "data": {
            "text/plain": [
              "(256, 256, 256, 256)"
            ]
          },
          "metadata": {
            "tags": []
          },
          "execution_count": 23
        }
      ]
    },
    {
      "metadata": {
        "id": "uvJGER07ZOWy",
        "colab_type": "code",
        "colab": {
          "base_uri": "https://localhost:8080/",
          "height": 340
        },
        "outputId": "1657eb4d-5118-4adf-c885-504e2cd6f425"
      },
      "cell_type": "code",
      "source": [
        "print(train_data[0])"
      ],
      "execution_count": 24,
      "outputs": [
        {
          "output_type": "stream",
          "text": [
            "[   1   14   22   16   43  530  973 1622 1385   65  458 4468   66 3941\n",
            "    4  173   36  256    5   25  100   43  838  112   50  670    2    9\n",
            "   35  480  284    5  150    4  172  112  167    2  336  385   39    4\n",
            "  172 4536 1111   17  546   38   13  447    4  192   50   16    6  147\n",
            " 2025   19   14   22    4 1920 4613  469    4   22   71   87   12   16\n",
            "   43  530   38   76   15   13 1247    4   22   17  515   17   12   16\n",
            "  626   18    2    5   62  386   12    8  316    8  106    5    4 2223\n",
            " 5244   16  480   66 3785   33    4  130   12   16   38  619    5   25\n",
            "  124   51   36  135   48   25 1415   33    6   22   12  215   28   77\n",
            "   52    5   14  407   16   82    2    8    4  107  117 5952   15  256\n",
            "    4    2    7 3766    5  723   36   71   43  530  476   26  400  317\n",
            "   46    7    4    2 1029   13  104   88    4  381   15  297   98   32\n",
            " 2071   56   26  141    6  194 7486   18    4  226   22   21  134  476\n",
            "   26  480    5  144   30 5535   18   51   36   28  224   92   25  104\n",
            "    4  226   65   16   38 1334   88   12   16  283    5   16 4472  113\n",
            "  103   32   15   16 5345   19  178   32    0    0    0    0    0    0\n",
            "    0    0    0    0    0    0    0    0    0    0    0    0    0    0\n",
            "    0    0    0    0    0    0    0    0    0    0    0    0    0    0\n",
            "    0    0    0    0]\n"
          ],
          "name": "stdout"
        }
      ]
    },
    {
      "metadata": {
        "id": "CuIxOclMup21",
        "colab_type": "text"
      },
      "cell_type": "markdown",
      "source": [
        "# モデルの構築\n",
        "\n",
        "## Embedding層\n",
        "正の整数を固定次元の密ベクトルに変換する。<br>\n",
        "指定された次元への埋め込みベクトルを生成してくれる。例え語彙数が10000であっても、次元数を16と指定すれば、16次元の実数ベクトルが生成される。ベクトルの各要素はランダムに決定され、当然ながらone-hotベクトルではない。\n",
        "\n",
        "## プーリング層（GlobalAveragePooling1D層）\n",
        "次に、GlobalAveragePooling1Dレイヤーは、シーケンスの次元を平均化することによって、各例の固定長出力ベクトルを返します。これにより、モデルは可能な限り簡単な方法で可変長の入力を処理できる。\n",
        "\n",
        "- GlobalAveragePooling1D：時系列データのためのグローバルな平均プーリング演算．\n",
        "\n",
        "## Dense層（１）\n",
        "この固定長出力ベクトルは、16の隠れユニットを持つ完全に接続された（密）レイヤーを介してパイプ処理される。\n",
        "\n",
        "## Dense層（２）\n",
        "最後の層は、単一の出力ノードと密接に接続されている。シグモイド活性化関数を使用すると、この値は0から1の間の浮動小数点数であり、確率を表す。"
      ]
    },
    {
      "metadata": {
        "id": "HRA-m9aglfD7",
        "colab_type": "code",
        "colab": {
          "base_uri": "https://localhost:8080/",
          "height": 289
        },
        "outputId": "c9619493-5b1f-439a-fee1-e4f86054d1dd"
      },
      "cell_type": "code",
      "source": [
        "# input shape is the vocabulary count used for the movie reviews (10,000 words)\n",
        "vocab_size = 10000\n",
        "\n",
        "model = keras.Sequential()\n",
        "model.add(keras.layers.Embedding(vocab_size, 16))\n",
        "model.add(keras.layers.GlobalAveragePooling1D())\n",
        "model.add(keras.layers.Dense(16, activation='relu'))\n",
        "model.add(keras.layers.Dense(1, activation='sigmoid'))\n",
        "\n",
        "model.summary()"
      ],
      "execution_count": 25,
      "outputs": [
        {
          "output_type": "stream",
          "text": [
            "Model: \"sequential\"\n",
            "_________________________________________________________________\n",
            "Layer (type)                 Output Shape              Param #   \n",
            "=================================================================\n",
            "embedding (Embedding)        (None, None, 16)          160000    \n",
            "_________________________________________________________________\n",
            "global_average_pooling1d (Gl (None, 16)                0         \n",
            "_________________________________________________________________\n",
            "dense (Dense)                (None, 16)                272       \n",
            "_________________________________________________________________\n",
            "dense_1 (Dense)              (None, 1)                 17        \n",
            "=================================================================\n",
            "Total params: 160,289\n",
            "Trainable params: 160,289\n",
            "Non-trainable params: 0\n",
            "_________________________________________________________________\n"
          ],
          "name": "stdout"
        }
      ]
    },
    {
      "metadata": {
        "id": "7nG8E34L0Exf",
        "colab_type": "text"
      },
      "cell_type": "markdown",
      "source": [
        "## 隠れ層について\n",
        "出力数（ユニット、ノード、またはニューロン）は、レイヤの表現空間の次元です。言い換えれば、内部表現を学習するときにネットワークが許容する自由度。\n",
        "\n",
        "モデルに隠れた単位やレイヤーがある場合、ネットワークはより複雑な表現を学ぶことができる。ただし、ネットワークの計算コストが高くなり、不要なパターン、つまりトレーニングデータのパフォーマンスは向上するがテストデータのパフォーマンスは向上しないパターンの学習につながる可能性がある。これは過剰適合と呼ばれている。\n"
      ]
    },
    {
      "metadata": {
        "id": "RgtWBJLo0b2Z",
        "colab_type": "text"
      },
      "cell_type": "markdown",
      "source": [
        "# 損失関数とOptimizer\n",
        "\n",
        "今回のモデルは確率（シグモイド活性化を含む単一層）を出力するので、binary_crossentropy loss関数を使用する。"
      ]
    },
    {
      "metadata": {
        "id": "qn23I5BHu-Io",
        "colab_type": "code",
        "colab": {}
      },
      "cell_type": "code",
      "source": [
        "model.compile(optimizer='adam',\n",
        "              loss='binary_crossentropy',\n",
        "              metrics=['accuracy'])"
      ],
      "execution_count": 0,
      "outputs": []
    },
    {
      "metadata": {
        "id": "HNM-16kI1MPz",
        "colab_type": "text"
      },
      "cell_type": "markdown",
      "source": [
        "# 検証"
      ]
    },
    {
      "metadata": {
        "id": "f8hYi_KV1HNT",
        "colab_type": "code",
        "colab": {}
      },
      "cell_type": "code",
      "source": [
        "x_val = train_data[:10000]\n",
        "partial_x_train = train_data[10000:]\n",
        "\n",
        "y_val = train_labels[:10000]\n",
        "partial_y_train = train_labels[10000:]"
      ],
      "execution_count": 0,
      "outputs": []
    },
    {
      "metadata": {
        "id": "zRpFnQeL1c71",
        "colab_type": "text"
      },
      "cell_type": "markdown",
      "source": [
        "### トレーニングデータ\n",
        "\n",
        "512サンプルのミニバッチで40エポックのモデルを学習させる。これは、x_trainテンソルとy_trainテンソルのすべてのサンプルで40回の反復させる。トレーニング中に、検証セットからの10,000サンプルについてモデルの損失と精度を監視する。"
      ]
    },
    {
      "metadata": {
        "id": "8iG-U5AX1PMx",
        "colab_type": "code",
        "colab": {
          "base_uri": "https://localhost:8080/",
          "height": 1414
        },
        "outputId": "dc038a20-4c17-4ccc-ee7e-a1922597dacc"
      },
      "cell_type": "code",
      "source": [
        "history = model.fit(partial_x_train,\n",
        "                    partial_y_train,\n",
        "                    epochs=40,\n",
        "                    batch_size=512,\n",
        "                    validation_data=(x_val, y_val),\n",
        "                    verbose=1)"
      ],
      "execution_count": 28,
      "outputs": [
        {
          "output_type": "stream",
          "text": [
            "Train on 15000 samples, validate on 10000 samples\n",
            "Epoch 1/40\n",
            "15000/15000 [==============================] - 1s 87us/sample - loss: 0.6924 - accuracy: 0.5047 - val_loss: 0.6913 - val_accuracy: 0.5001\n",
            "Epoch 2/40\n",
            "15000/15000 [==============================] - 1s 65us/sample - loss: 0.6879 - accuracy: 0.6533 - val_loss: 0.6844 - val_accuracy: 0.6924\n",
            "Epoch 3/40\n",
            "15000/15000 [==============================] - 1s 63us/sample - loss: 0.6771 - accuracy: 0.7197 - val_loss: 0.6705 - val_accuracy: 0.7417\n",
            "Epoch 4/40\n",
            "15000/15000 [==============================] - 1s 64us/sample - loss: 0.6572 - accuracy: 0.7398 - val_loss: 0.6469 - val_accuracy: 0.7536\n",
            "Epoch 5/40\n",
            "15000/15000 [==============================] - 1s 64us/sample - loss: 0.6259 - accuracy: 0.7802 - val_loss: 0.6136 - val_accuracy: 0.7771\n",
            "Epoch 6/40\n",
            "15000/15000 [==============================] - 1s 64us/sample - loss: 0.5851 - accuracy: 0.8046 - val_loss: 0.5738 - val_accuracy: 0.7958\n",
            "Epoch 7/40\n",
            "15000/15000 [==============================] - 1s 63us/sample - loss: 0.5384 - accuracy: 0.8199 - val_loss: 0.5294 - val_accuracy: 0.8147\n",
            "Epoch 8/40\n",
            "15000/15000 [==============================] - 1s 64us/sample - loss: 0.4907 - accuracy: 0.8409 - val_loss: 0.4876 - val_accuracy: 0.8292\n",
            "Epoch 9/40\n",
            "15000/15000 [==============================] - 1s 64us/sample - loss: 0.4457 - accuracy: 0.8561 - val_loss: 0.4494 - val_accuracy: 0.8410\n",
            "Epoch 10/40\n",
            "15000/15000 [==============================] - 1s 64us/sample - loss: 0.4055 - accuracy: 0.8697 - val_loss: 0.4176 - val_accuracy: 0.8485\n",
            "Epoch 11/40\n",
            "15000/15000 [==============================] - 1s 64us/sample - loss: 0.3714 - accuracy: 0.8781 - val_loss: 0.3904 - val_accuracy: 0.8573\n",
            "Epoch 12/40\n",
            "15000/15000 [==============================] - 1s 64us/sample - loss: 0.3413 - accuracy: 0.8868 - val_loss: 0.3690 - val_accuracy: 0.8603\n",
            "Epoch 13/40\n",
            "15000/15000 [==============================] - 1s 64us/sample - loss: 0.3168 - accuracy: 0.8929 - val_loss: 0.3507 - val_accuracy: 0.8662\n",
            "Epoch 14/40\n",
            "15000/15000 [==============================] - 1s 64us/sample - loss: 0.2953 - accuracy: 0.8991 - val_loss: 0.3375 - val_accuracy: 0.8717\n",
            "Epoch 15/40\n",
            "15000/15000 [==============================] - 1s 65us/sample - loss: 0.2776 - accuracy: 0.9042 - val_loss: 0.3267 - val_accuracy: 0.8731\n",
            "Epoch 16/40\n",
            "15000/15000 [==============================] - 1s 65us/sample - loss: 0.2619 - accuracy: 0.9093 - val_loss: 0.3179 - val_accuracy: 0.8743\n",
            "Epoch 17/40\n",
            "15000/15000 [==============================] - 1s 65us/sample - loss: 0.2475 - accuracy: 0.9141 - val_loss: 0.3107 - val_accuracy: 0.8773\n",
            "Epoch 18/40\n",
            "15000/15000 [==============================] - 1s 64us/sample - loss: 0.2349 - accuracy: 0.9190 - val_loss: 0.3046 - val_accuracy: 0.8801\n",
            "Epoch 19/40\n",
            "15000/15000 [==============================] - 1s 64us/sample - loss: 0.2235 - accuracy: 0.9217 - val_loss: 0.2994 - val_accuracy: 0.8813\n",
            "Epoch 20/40\n",
            "15000/15000 [==============================] - 1s 64us/sample - loss: 0.2132 - accuracy: 0.9251 - val_loss: 0.2959 - val_accuracy: 0.8806\n",
            "Epoch 21/40\n",
            "15000/15000 [==============================] - 1s 64us/sample - loss: 0.2028 - accuracy: 0.9309 - val_loss: 0.2928 - val_accuracy: 0.8820\n",
            "Epoch 22/40\n",
            "15000/15000 [==============================] - 1s 63us/sample - loss: 0.1941 - accuracy: 0.9338 - val_loss: 0.2903 - val_accuracy: 0.8840\n",
            "Epoch 23/40\n",
            "15000/15000 [==============================] - 1s 64us/sample - loss: 0.1854 - accuracy: 0.9382 - val_loss: 0.2892 - val_accuracy: 0.8829\n",
            "Epoch 24/40\n",
            "15000/15000 [==============================] - 1s 64us/sample - loss: 0.1778 - accuracy: 0.9417 - val_loss: 0.2875 - val_accuracy: 0.8842\n",
            "Epoch 25/40\n",
            "15000/15000 [==============================] - 1s 65us/sample - loss: 0.1700 - accuracy: 0.9453 - val_loss: 0.2860 - val_accuracy: 0.8844\n",
            "Epoch 26/40\n",
            "15000/15000 [==============================] - 1s 65us/sample - loss: 0.1631 - accuracy: 0.9479 - val_loss: 0.2867 - val_accuracy: 0.8827\n",
            "Epoch 27/40\n",
            "15000/15000 [==============================] - 1s 66us/sample - loss: 0.1566 - accuracy: 0.9500 - val_loss: 0.2860 - val_accuracy: 0.8841\n",
            "Epoch 28/40\n",
            "15000/15000 [==============================] - 1s 64us/sample - loss: 0.1503 - accuracy: 0.9533 - val_loss: 0.2864 - val_accuracy: 0.8845\n",
            "Epoch 29/40\n",
            "15000/15000 [==============================] - 1s 64us/sample - loss: 0.1448 - accuracy: 0.9566 - val_loss: 0.2881 - val_accuracy: 0.8837\n",
            "Epoch 30/40\n",
            "15000/15000 [==============================] - 1s 64us/sample - loss: 0.1391 - accuracy: 0.9573 - val_loss: 0.2874 - val_accuracy: 0.8860\n",
            "Epoch 31/40\n",
            "15000/15000 [==============================] - 1s 64us/sample - loss: 0.1333 - accuracy: 0.9604 - val_loss: 0.2885 - val_accuracy: 0.8863\n",
            "Epoch 32/40\n",
            "15000/15000 [==============================] - 1s 64us/sample - loss: 0.1281 - accuracy: 0.9633 - val_loss: 0.2899 - val_accuracy: 0.8861\n",
            "Epoch 33/40\n",
            "15000/15000 [==============================] - 1s 64us/sample - loss: 0.1230 - accuracy: 0.9641 - val_loss: 0.2921 - val_accuracy: 0.8851\n",
            "Epoch 34/40\n",
            "15000/15000 [==============================] - 1s 65us/sample - loss: 0.1185 - accuracy: 0.9663 - val_loss: 0.2942 - val_accuracy: 0.8849\n",
            "Epoch 35/40\n",
            "15000/15000 [==============================] - 1s 64us/sample - loss: 0.1143 - accuracy: 0.9673 - val_loss: 0.2968 - val_accuracy: 0.8847\n",
            "Epoch 36/40\n",
            "15000/15000 [==============================] - 1s 64us/sample - loss: 0.1099 - accuracy: 0.9693 - val_loss: 0.2985 - val_accuracy: 0.8845\n",
            "Epoch 37/40\n",
            "15000/15000 [==============================] - 1s 64us/sample - loss: 0.1055 - accuracy: 0.9703 - val_loss: 0.3010 - val_accuracy: 0.8839\n",
            "Epoch 38/40\n",
            "15000/15000 [==============================] - 1s 65us/sample - loss: 0.1015 - accuracy: 0.9718 - val_loss: 0.3046 - val_accuracy: 0.8830\n",
            "Epoch 39/40\n",
            "15000/15000 [==============================] - 1s 64us/sample - loss: 0.0983 - accuracy: 0.9731 - val_loss: 0.3081 - val_accuracy: 0.8820\n",
            "Epoch 40/40\n",
            "15000/15000 [==============================] - 1s 65us/sample - loss: 0.0942 - accuracy: 0.9751 - val_loss: 0.3107 - val_accuracy: 0.8827\n"
          ],
          "name": "stdout"
        }
      ]
    },
    {
      "metadata": {
        "id": "tCq23IY49IzN",
        "colab_type": "text"
      },
      "cell_type": "markdown",
      "source": [
        "# モデルの評価"
      ]
    },
    {
      "metadata": {
        "id": "f9nLSanT1ns_",
        "colab_type": "code",
        "colab": {
          "base_uri": "https://localhost:8080/",
          "height": 51
        },
        "outputId": "0b845771-782c-489d-93b9-842a87666b1f"
      },
      "cell_type": "code",
      "source": [
        "results = model.evaluate(test_data, test_labels)\n",
        "\n",
        "print(results)"
      ],
      "execution_count": 29,
      "outputs": [
        {
          "output_type": "stream",
          "text": [
            "25000/25000 [==============================] - 1s 41us/sample - loss: 0.3317 - accuracy: 0.8717\n",
            "[0.33165484661102296, 0.87168]\n"
          ],
          "name": "stdout"
        }
      ]
    },
    {
      "metadata": {
        "id": "p695Ab6k9btH",
        "colab_type": "text"
      },
      "cell_type": "markdown",
      "source": [
        "今回のアプローチは、約87％の精度を達成した。"
      ]
    },
    {
      "metadata": {
        "id": "GaWPAT7i_cJY",
        "colab_type": "text"
      },
      "cell_type": "markdown",
      "source": [
        "# 損失と精度のグラフ"
      ]
    },
    {
      "metadata": {
        "id": "uZF7_gNF9R0x",
        "colab_type": "code",
        "colab": {
          "base_uri": "https://localhost:8080/",
          "height": 34
        },
        "outputId": "13789fb2-ff8f-4e00-d082-282bcff265c9"
      },
      "cell_type": "code",
      "source": [
        "history_dict = history.history\n",
        "history_dict.keys()"
      ],
      "execution_count": 30,
      "outputs": [
        {
          "output_type": "execute_result",
          "data": {
            "text/plain": [
              "dict_keys(['loss', 'accuracy', 'val_loss', 'val_accuracy'])"
            ]
          },
          "metadata": {
            "tags": []
          },
          "execution_count": 30
        }
      ]
    },
    {
      "metadata": {
        "id": "_3dETjOG_yvl",
        "colab_type": "code",
        "colab": {
          "base_uri": "https://localhost:8080/",
          "height": 376
        },
        "outputId": "5bc4f9f6-061d-4070-c11b-e80d47d85b28"
      },
      "cell_type": "code",
      "source": [
        "import matplotlib.pyplot as plt\n",
        "\n",
        "acc = history_dict['accuracy']\n",
        "val_acc = history_dict['val_accuracy']\n",
        "loss = history_dict['loss']\n",
        "val_loss = history_dict['val_loss']\n",
        "\n",
        "epochs = range(1, len(acc) + 1)\n",
        "\n",
        "# \"bo\" is for \"blue dot\"\n",
        "plt.plot(epochs, loss, 'bo', label='Training loss')\n",
        "# b is for \"solid blue line\"\n",
        "plt.plot(epochs, val_loss, 'b', label='Validation loss')\n",
        "plt.title('Training and validation loss')\n",
        "plt.xlabel('Epochs')\n",
        "plt.ylabel('Loss')\n",
        "plt.legend()\n",
        "\n",
        "plt.show()"
      ],
      "execution_count": 31,
      "outputs": [
        {
          "output_type": "display_data",
          "data": {
            "image/png": "[encoded data removed]",
            "text/plain": [
              "<Figure size 576x396 with 1 Axes>"
            ]
          },
          "metadata": {
            "tags": []
          }
        }
      ]
    },
    {
      "metadata": {
        "id": "p3lQ6nNi_zK7",
        "colab_type": "code",
        "colab": {
          "base_uri": "https://localhost:8080/",
          "height": 376
        },
        "outputId": "998400f7-23d8-42ea-b726-b533350bcc69"
      },
      "cell_type": "code",
      "source": [
        "plt.clf()   # clear figure\n",
        "\n",
        "plt.plot(epochs, acc, 'bo', label='Training acc')\n",
        "plt.plot(epochs, val_acc, 'b', label='Validation acc')\n",
        "plt.title('Training and validation accuracy')\n",
        "plt.xlabel('Epochs')\n",
        "plt.ylabel('Accuracy')\n",
        "plt.legend()\n",
        "\n",
        "plt.show()"
      ],
      "execution_count": 32,
      "outputs": [
        {
          "output_type": "display_data",
          "data": {
            "image/png": "[encoded data removed]",
            "text/plain": [
              "<Figure size 576x396 with 1 Axes>"
            ]
          },
          "metadata": {
            "tags": []
          }
        }
      ]
    },
    {
      "metadata": {
        "id": "QTWZny5hADNC",
        "colab_type": "code",
        "colab": {}
      },
      "cell_type": "code",
      "source": [
        ""
      ],
      "execution_count": 0,
      "outputs": []
    }
  ]
}